{
 "cells": [
  {
   "metadata": {},
   "cell_type": "code",
   "source": [
    "%reload_ext slurm_magic\n",
    "import warnings\n",
    "warnings.filterwarnings(\"ignore\")"
   ],
   "id": "2449325a2f806b71",
   "outputs": [],
   "execution_count": null
  },
  {
   "metadata": {},
   "cell_type": "code",
   "source": [
    "%env slurm_hostname=YOUR_VALUE\n",
    "%env slurm_username=YOUR_VALUE\n",
    "%env slurm_password=YOUR_VALUE"
   ],
   "id": "e9964cee9ff0cc7d",
   "outputs": [],
   "execution_count": null
  },
  {
   "metadata": {},
   "cell_type": "code",
   "source": [
    "%%sbatch\n",
    "#!/bin/bash\n",
    "#SBATCH --job-name=slurmMagicTest\n",
    "#SBATCH --nodes=1\n",
    "#SBATCH --ntasks-per-node=1\n",
    "#SBATCH --cpus-per-task=1\n",
    "#SBATCH --time=00:00:02\n",
    "#SBATCH --partition=plgrid-testing\n",
    "#SBATCH --account=plglscclass24-cpu\n",
    "\n",
    "python /net/people/plgrid/plgwjwitek/LSC/slurmTest.py"
   ],
   "id": "e7846188a2d8095f",
   "outputs": [],
   "execution_count": null
  },
  {
   "metadata": {},
   "cell_type": "code",
   "source": "",
   "id": "4236ac8dc565008d",
   "outputs": [],
   "execution_count": null
  }
 ],
 "metadata": {
  "kernelspec": {
   "display_name": "Python 3",
   "language": "python",
   "name": "python3"
  },
  "language_info": {
   "codemirror_mode": {
    "name": "ipython",
    "version": 2
   },
   "file_extension": ".py",
   "mimetype": "text/x-python",
   "name": "python",
   "nbconvert_exporter": "python",
   "pygments_lexer": "ipython2",
   "version": "2.7.6"
  }
 },
 "nbformat": 4,
 "nbformat_minor": 5
}
