{
 "cells": [
  {
   "cell_type": "markdown",
   "id": "bc282fd9",
   "metadata": {},
   "source": [
    "# Submitting batch job execution from Jupyter Notebooks"
   ]
  },
  {
   "cell_type": "code",
   "execution_count": 1,
   "id": "2449325a2f806b71",
   "metadata": {},
   "outputs": [],
   "source": [
    "%reload_ext slurm_magic\n",
    "import warnings\n",
    "warnings.filterwarnings(\"ignore\")"
   ]
  },
  {
   "cell_type": "code",
   "execution_count": null,
   "id": "e9964cee9ff0cc7d",
   "metadata": {},
   "outputs": [],
   "source": [
    "%env slurm_hostname=YOUR_VALUE\n",
    "%env slurm_username=YOUR_VALUE\n",
    "%env slurm_password=YOUR_VALUE"
   ]
  },
  {
   "cell_type": "markdown",
   "id": "95fbdcbc",
   "metadata": {},
   "source": [
    "## Script to run as a batch job"
   ]
  },
  {
   "cell_type": "code",
   "execution_count": 3,
   "id": "bd9280d3",
   "metadata": {},
   "outputs": [
    {
     "name": "stdout",
     "output_type": "stream",
     "text": [
      "Overwriting scripts/primes.py\n"
     ]
    }
   ],
   "source": [
    "%%writefile scripts/primes.py\n",
    "\n",
    "N = 1000\n",
    "\n",
    "def calculate_b(n):\n",
    "    b = int(n ** 0.5)\n",
    "    prime_nums = [2]\n",
    "    for num in range(3, b + 1, 2):\n",
    "        is_prime = True\n",
    "        for divisor in prime_nums:\n",
    "            if divisor > num ** 0.5:\n",
    "                break\n",
    "            if num % divisor == 0:\n",
    "                is_prime = False\n",
    "                break\n",
    "        if is_prime:\n",
    "            prime_nums.append(num)\n",
    "    return prime_nums\n",
    "\n",
    "primes_in_b = calculate_b(N)\n",
    "primes_in_c = []\n",
    "\n",
    "start = int(N ** 0.5) + 1\n",
    "if start % 2 == 0:\n",
    "    start += 1\n",
    "\n",
    "for num in range(start, N + 1):\n",
    "    is_prime = True\n",
    "    for prime_from_b in primes_in_b:\n",
    "        if prime_from_b > num ** 0.5:\n",
    "            break\n",
    "        if num % prime_from_b == 0:\n",
    "            is_prime = False\n",
    "            break\n",
    "    if is_prime:\n",
    "        primes_in_c.append(num)\n",
    "\n",
    "all_primes = primes_in_b + primes_in_c\n",
    "\n",
    "print(f'Prime numbers up to {N}:')\n",
    "for i in range(0, len(all_primes), 10):\n",
    "    for prime in all_primes[i:min(i + 10, len(all_primes))]:\n",
    "        print(str(prime).zfill(3), end=', ')\n",
    "    print()"
   ]
  },
  {
   "cell_type": "markdown",
   "id": "8f22b1a6",
   "metadata": {},
   "source": [
    "## Submition"
   ]
  },
  {
   "cell_type": "code",
   "execution_count": 8,
   "id": "e7846188a2d8095f",
   "metadata": {},
   "outputs": [
    {
     "data": {
      "text/plain": [
       "'Submitted batch job 13962652'"
      ]
     },
     "execution_count": 8,
     "metadata": {},
     "output_type": "execute_result"
    }
   ],
   "source": [
    "%%sbatch\n",
    "#!/bin/bash\n",
    "#SBATCH --job-name=primes\n",
    "#SBATCH --nodes=1\n",
    "#SBATCH --ntasks-per-node=1\n",
    "#SBATCH --cpus-per-task=1\n",
    "#SBATCH --time=00:01:00\n",
    "#SBATCH --partition=plgrid-testing\n",
    "#SBATCH --account=plglscclass24-cpu\n",
    "#SBATCH --output=lsc_proj/slurm-magic-ssh/output/primes.out\n",
    "\n",
    "python lsc_proj/slurm-magic-ssh/scripts/primes.py"
   ]
  },
  {
   "cell_type": "markdown",
   "id": "fc0db057",
   "metadata": {},
   "source": [
    "## Reading the results"
   ]
  },
  {
   "cell_type": "code",
   "execution_count": 11,
   "id": "4236ac8dc565008d",
   "metadata": {},
   "outputs": [
    {
     "name": "stdout",
     "output_type": "stream",
     "text": [
      "Prime numbers up to 1000:\n",
      "002, 003, 005, 007, 011, 013, 017, 019, 023, 029, \n",
      "031, 037, 041, 043, 047, 053, 059, 061, 067, 071, \n",
      "073, 079, 083, 089, 097, 101, 103, 107, 109, 113, \n",
      "127, 131, 137, 139, 149, 151, 157, 163, 167, 173, \n",
      "179, 181, 191, 193, 197, 199, 211, 223, 227, 229, \n",
      "233, 239, 241, 251, 257, 263, 269, 271, 277, 281, \n",
      "283, 293, 307, 311, 313, 317, 331, 337, 347, 349, \n",
      "353, 359, 367, 373, 379, 383, 389, 397, 401, 409, \n",
      "419, 421, 431, 433, 439, 443, 449, 457, 461, 463, \n",
      "467, 479, 487, 491, 499, 503, 509, 521, 523, 541, \n",
      "547, 557, 563, 569, 571, 577, 587, 593, 599, 601, \n",
      "607, 613, 617, 619, 631, 641, 643, 647, 653, 659, \n",
      "661, 673, 677, 683, 691, 701, 709, 719, 727, 733, \n",
      "739, 743, 751, 757, 761, 769, 773, 787, 797, 809, \n",
      "811, 821, 823, 827, 829, 839, 853, 857, 859, 863, \n",
      "877, 881, 883, 887, 907, 911, 919, 929, 937, 941, \n",
      "947, 953, 967, 971, 977, 983, 991, 997, \n",
      "\n"
     ]
    }
   ],
   "source": [
    "with open(\"output/primes.out\") as result:\n",
    "    print(result.read())"
   ]
  }
 ],
 "metadata": {
  "kernelspec": {
   "display_name": "Python 3 (ipykernel)",
   "language": "python",
   "name": "python3"
  },
  "language_info": {
   "codemirror_mode": {
    "name": "ipython",
    "version": 3
   },
   "file_extension": ".py",
   "mimetype": "text/x-python",
   "name": "python",
   "nbconvert_exporter": "python",
   "pygments_lexer": "ipython3",
   "version": "3.9.20"
  }
 },
 "nbformat": 4,
 "nbformat_minor": 5
}
