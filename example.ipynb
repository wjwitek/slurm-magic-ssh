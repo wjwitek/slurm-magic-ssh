{
 "cells": [
  {
   "cell_type": "code",
   "execution_count": null,
   "id": "2449325a2f806b71",
   "metadata": {},
   "outputs": [],
   "source": [
    "%reload_ext slurm_magic\n",
    "import warnings\n",
    "warnings.filterwarnings(\"ignore\")"
   ]
  },
  {
   "cell_type": "code",
   "execution_count": null,
   "id": "e9964cee9ff0cc7d",
   "metadata": {},
   "outputs": [],
   "source": [
    "%env slurm_hostname=YOUR_VALUE\n",
    "%env slurm_username=YOUR_VALUE\n",
    "%env slurm_password=YOUR_VALUE"
   ]
  },
  {
   "cell_type": "code",
   "execution_count": null,
   "id": "da4f3f22",
   "metadata": {},
   "outputs": [],
   "source": [
    "%%writefile batch_example.py\n",
    "\n",
    "print('This line of code will be saved into a file \"batch_example.py\"!')"
   ]
  },
  {
   "cell_type": "code",
   "execution_count": null,
   "id": "e7846188a2d8095f",
   "metadata": {},
   "outputs": [],
   "source": [
    "%%sbatch\n",
    "#!/bin/bash\n",
    "#SBATCH --job-name=slurmMagicTest\n",
    "#SBATCH --nodes=1\n",
    "#SBATCH --ntasks-per-node=1\n",
    "#SBATCH --cpus-per-task=1\n",
    "#SBATCH --time=00:01:00\n",
    "#SBATCH --partition=plgrid-testing\n",
    "#SBATCH --account=plglscclass24-cpu\n",
    "\n",
    "python lsc_proj/slurm-magic-ssh/batch_example.py"
   ]
  },
  {
   "cell_type": "code",
   "execution_count": null,
   "id": "4236ac8dc565008d",
   "metadata": {},
   "outputs": [],
   "source": []
  }
 ],
 "metadata": {
  "kernelspec": {
   "display_name": "Python 3",
   "language": "python",
   "name": "python3"
  },
  "language_info": {
   "codemirror_mode": {
    "name": "ipython",
    "version": 2
   },
   "file_extension": ".py",
   "mimetype": "text/x-python",
   "name": "python",
   "nbconvert_exporter": "python",
   "pygments_lexer": "ipython2",
   "version": "2.7.6"
  }
 },
 "nbformat": 4,
 "nbformat_minor": 5
}
