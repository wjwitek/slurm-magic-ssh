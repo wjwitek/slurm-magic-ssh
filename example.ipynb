{
 "cells": [
  {
   "cell_type": "code",
   "id": "2449325a2f806b71",
   "metadata": {
    "ExecuteTime": {
     "end_time": "2025-01-14T09:09:32.011599Z",
     "start_time": "2025-01-14T09:09:31.995890Z"
    }
   },
   "source": [
    "%reload_ext slurm_magic\n",
    "import warnings\n",
    "warnings.filterwarnings(\"ignore\")"
   ],
   "outputs": [],
   "execution_count": 31
  },
  {
   "metadata": {},
   "cell_type": "code",
   "outputs": [],
   "execution_count": null,
   "source": [
    "%env slurm_hostname=YOUR_VALUE\n",
    "%env slurm_username=YOUR_VALUE\n",
    "%env slurm_password=YOUR_VALUE"
   ],
   "id": "8348b601d7b6defc"
  },
  {
   "cell_type": "code",
   "id": "da4f3f22",
   "metadata": {
    "ExecuteTime": {
     "end_time": "2025-01-14T09:10:50.920172Z",
     "start_time": "2025-01-14T09:10:50.604845Z"
    }
   },
   "source": [
    "%%swritefile batch_example.py\n",
    "\n",
    "print('This line of code will be saved into a file \"batch_example.py\"!')"
   ],
   "outputs": [],
   "execution_count": 33
  },
  {
   "metadata": {
    "ExecuteTime": {
     "end_time": "2025-01-14T08:46:28.638664Z",
     "start_time": "2025-01-14T08:46:25.812989Z"
    }
   },
   "cell_type": "code",
   "outputs": [
    {
     "data": {
      "text/plain": [
       "'Submitted batch job 13740978'"
      ]
     },
     "execution_count": 4,
     "metadata": {},
     "output_type": "execute_result"
    }
   ],
   "execution_count": 4,
   "source": [
    "%%sbatch\n",
    "#!/bin/bash\n",
    "#SBATCH --job-name=slurmMagicTest\n",
    "#SBATCH --nodes=1\n",
    "#SBATCH --ntasks-per-node=1\n",
    "#SBATCH --cpus-per-task=1\n",
    "#SBATCH --time=00:01:00\n",
    "#SBATCH --partition=plgrid-testing\n",
    "#SBATCH --account=plglscclass24-cpu\n",
    "\n",
    "python lsc_proj/slurm-magic-ssh/batch_example.py"
   ],
   "id": "e7846188a2d8095f"
  }
 ],
 "metadata": {
  "kernelspec": {
   "display_name": "Python 3",
   "language": "python",
   "name": "python3"
  },
  "language_info": {
   "codemirror_mode": {
    "name": "ipython",
    "version": 2
   },
   "file_extension": ".py",
   "mimetype": "text/x-python",
   "name": "python",
   "nbconvert_exporter": "python",
   "pygments_lexer": "ipython2",
   "version": "2.7.6"
  }
 },
 "nbformat": 4,
 "nbformat_minor": 5
}
